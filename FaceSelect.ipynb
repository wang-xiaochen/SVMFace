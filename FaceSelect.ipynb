{
 "cells": [
  {
   "cell_type": "code",
   "execution_count": 2,
   "id": "60582daf",
   "metadata": {},
   "outputs": [],
   "source": [
    "# 导入包\n",
    "import numpy as np\n",
    "import cv2\n",
    "import dlib\n",
    "import os\n",
    "import sys\n",
    "import random"
   ]
  },
  {
   "cell_type": "code",
   "execution_count": 3,
   "id": "05da79af",
   "metadata": {},
   "outputs": [],
   "source": [
    "def get_detector_and_predicyor():\n",
    "    #使用dlib自带的frontal_face_detector作为我们的特征提取器\n",
    "    detector = dlib.get_frontal_face_detector()\n",
    "    \"\"\"\n",
    "    功能：人脸检测画框\n",
    "    参数：PythonFunction和in Classes\n",
    "    in classes表示采样次数，次数越多获取的人脸的次数越多，但更容易框错\n",
    "    返回值是矩形的坐标，每个矩形为一个人脸（默认的人脸检测器）\n",
    "    \"\"\"\n",
    "    #返回训练好的人脸68特征点检测器\n",
    "    predictor = dlib.shape_predictor('E:\\\\Ai\\\\face\\\\shape_predictor_68_face_landmarks.dat')\n",
    "    return detector,predictor\n"
   ]
  },
  {
   "cell_type": "code",
   "execution_count": 4,
   "id": "0ea65446",
   "metadata": {},
   "outputs": [],
   "source": [
    "#获取检测器\n",
    "detector,predictor=get_detector_and_predicyor()\n"
   ]
  },
  {
   "cell_type": "code",
   "execution_count": 5,
   "id": "090682ca",
   "metadata": {},
   "outputs": [],
   "source": [
    "def painting_sunglasses(img,detector,predictor):   \n",
    "    #给人脸带上墨镜\n",
    "    rects = detector(img_gray, 0)  \n",
    "    for i in range(len(rects)):\n",
    "        landmarks = np.matrix([[p.x, p.y] for p in predictor(img,rects[i]).parts()])\n",
    "        right_eye_x=0\n",
    "        right_eye_y=0\n",
    "        left_eye_x=0\n",
    "        left_eye_y=0\n",
    "        for i in range(36,42):#右眼范围\n",
    "            #将坐标相加\n",
    "            right_eye_x+=landmarks[i][0,0]\n",
    "            right_eye_y+=landmarks[i][0,1]\n",
    "        #取眼睛的中点坐标\n",
    "        pos_right=(int(right_eye_x/6),int(right_eye_y/6))\n",
    "        \"\"\"\n",
    "        利用circle函数画圆\n",
    "        函数原型      \n",
    "        cv2.circle(img, center, radius, color[, thickness[, lineType[, shift]]])\n",
    "        img：输入的图片data\n",
    "        center：圆心位置\n",
    "        radius：圆的半径\n",
    "        color：圆的颜色\n",
    "        thickness：圆形轮廓的粗细（如果为正）。负厚度表示要绘制实心圆。\n",
    "        lineType： 圆边界的类型。\n",
    "        shift：中心坐标和半径值中的小数位数。\n",
    "        \"\"\"\n",
    "        cv2.circle(img=img, center=pos_right, radius=30, color=(0,0,0),thickness=-1)\n",
    "        for i in range(42,48):#左眼范围\n",
    "           #将坐标相加\n",
    "            left_eye_x+=landmarks[i][0,0]\n",
    "            left_eye_y+=landmarks[i][0,1]\n",
    "        #取眼睛的中点坐标\n",
    "        pos_left=(int(left_eye_x/6),int(left_eye_y/6))\n",
    "        cv2.circle(img=img, center=pos_left, radius=30, color=(0,0,0),thickness=-1)\n"
   ]
  },
  {
   "cell_type": "code",
   "execution_count": 6,
   "id": "d4ce87a2",
   "metadata": {},
   "outputs": [],
   "source": [
    "camera = cv2.VideoCapture(0)#打开摄像头\n",
    "ok=True\n",
    "# 打开摄像头 参数为输入流，可以为摄像头或视频文件\n",
    "while ok:\n",
    "    ok,img = camera.read()\n",
    "     # 转换成灰度图像\n",
    "    img_gray = cv2.cvtColor(img,cv2.COLOR_BGR2GRAY)\n",
    "    #display_feature_point(img,detector,predictor)\n",
    "    painting_sunglasses(img,detector,predictor)#调用画墨镜函数\n",
    "    cv2.imshow('video', img)\n",
    "    k = cv2.waitKey(1)\n",
    "    if k == 27:    # press 'ESC' to quit\n",
    "        break\n",
    "camera.release()\n",
    "cv2.destroyAllWindows()\n"
   ]
  },
  {
   "cell_type": "code",
   "execution_count": 7,
   "id": "7e53f38f",
   "metadata": {},
   "outputs": [],
   "source": [
    "import numpy as np\n",
    "import cv2\n",
    "import dlib\n",
    "import os\n",
    "import sys\n",
    "import random"
   ]
  },
  {
   "cell_type": "code",
   "execution_count": 8,
   "id": "53afdacc",
   "metadata": {},
   "outputs": [],
   "source": [
    "output_dir = 'D:/faces'\n",
    "size = 64"
   ]
  },
  {
   "cell_type": "code",
   "execution_count": 9,
   "id": "41413ccb",
   "metadata": {},
   "outputs": [],
   "source": [
    "if not os.path.exists(output_dir):\n",
    "    os.makedirs(output_dir)\n",
    "# 改变图片的亮度与对比度"
   ]
  },
  {
   "cell_type": "code",
   "execution_count": 10,
   "id": "a593c2d4",
   "metadata": {},
   "outputs": [],
   "source": [
    "def relight(img, light=1, bias=0):\n",
    "    w = img.shape[1]\n",
    "    h = img.shape[0]\n",
    "    #image = []\n",
    "    for i in range(0,w):\n",
    "        for j in range(0,h):\n",
    "            for c in range(3):\n",
    "                tmp = int(img[j,i,c]*light + bias)\n",
    "                if tmp > 255:\n",
    "                    tmp = 255\n",
    "                elif tmp < 0:\n",
    "                    tmp = 0\n",
    "                img[j,i,c] = tmp\n",
    "    return img"
   ]
  },
  {
   "cell_type": "code",
   "execution_count": 11,
   "id": "e5b2646e",
   "metadata": {},
   "outputs": [],
   "source": [
    "#使用dlib自带的frontal_face_detector作为我们的特征提取器\n",
    "detector = dlib.get_frontal_face_detector()"
   ]
  },
  {
   "cell_type": "code",
   "execution_count": 12,
   "id": "c32b5be5",
   "metadata": {},
   "outputs": [],
   "source": [
    "# 打开摄像头 参数为输入流，可以为摄像头或视频文件\n",
    "#camera = cv2.VideoCapture(0)\n",
    "camera = cv2.VideoCapture('E:\\\\Ai\\\\face\\\\人脸.png')\n",
    "ok = True"
   ]
  },
  {
   "cell_type": "code",
   "execution_count": 13,
   "id": "203465ff",
   "metadata": {},
   "outputs": [],
   "source": [
    "detector = dlib.get_frontal_face_detector()\n",
    "predictor = dlib.shape_predictor('E:\\\\Ai\\\\face\\\\shape_predictor_68_face_landmarks.dat')"
   ]
  },
  {
   "cell_type": "code",
   "execution_count": 14,
   "id": "cee71643",
   "metadata": {},
   "outputs": [
    {
     "name": "stdout",
     "output_type": "stream",
     "text": [
      "0 (20, 129)\n",
      "1 (22, 153)\n",
      "2 (28, 177)\n",
      "3 (34, 201)\n",
      "4 (42, 223)\n",
      "5 (56, 241)\n",
      "6 (74, 258)\n",
      "7 (94, 270)\n",
      "8 (116, 273)\n",
      "9 (138, 270)\n",
      "10 (159, 258)\n",
      "11 (177, 241)\n",
      "12 (190, 222)\n",
      "13 (196, 198)\n",
      "14 (200, 175)\n",
      "15 (205, 151)\n",
      "16 (208, 126)\n",
      "17 (35, 110)\n",
      "18 (49, 99)\n",
      "19 (68, 96)\n",
      "20 (86, 100)\n",
      "21 (104, 108)\n",
      "22 (133, 108)\n",
      "23 (150, 100)\n",
      "24 (168, 95)\n",
      "25 (186, 97)\n",
      "26 (199, 107)\n",
      "27 (118, 128)\n",
      "28 (118, 145)\n",
      "29 (119, 162)\n",
      "30 (119, 179)\n",
      "31 (103, 190)\n",
      "32 (111, 192)\n",
      "33 (119, 195)\n",
      "34 (126, 193)\n",
      "35 (133, 191)\n",
      "36 (56, 126)\n",
      "37 (67, 120)\n",
      "38 (80, 121)\n",
      "39 (91, 131)\n",
      "40 (79, 133)\n",
      "41 (65, 133)\n",
      "42 (143, 131)\n",
      "43 (153, 121)\n",
      "44 (167, 119)\n",
      "45 (178, 126)\n",
      "46 (169, 132)\n",
      "47 (155, 133)\n",
      "48 (85, 224)\n",
      "49 (97, 216)\n",
      "50 (109, 211)\n",
      "51 (117, 213)\n",
      "52 (126, 211)\n",
      "53 (137, 217)\n",
      "54 (147, 225)\n",
      "55 (137, 233)\n",
      "56 (126, 236)\n",
      "57 (116, 237)\n",
      "58 (107, 236)\n",
      "59 (96, 232)\n",
      "60 (92, 224)\n",
      "61 (108, 221)\n",
      "62 (117, 222)\n",
      "63 (126, 221)\n",
      "64 (141, 224)\n",
      "65 (125, 222)\n",
      "66 (116, 223)\n",
      "67 (107, 222)\n"
     ]
    },
    {
     "ename": "error",
     "evalue": "OpenCV(4.5.4-dev) D:\\a\\opencv-python\\opencv-python\\opencv\\modules\\imgproc\\src\\color.cpp:182: error: (-215:Assertion failed) !_src.empty() in function 'cv::cvtColor'\n",
     "output_type": "error",
     "traceback": [
      "\u001b[1;31m---------------------------------------------------------------------------\u001b[0m",
      "\u001b[1;31merror\u001b[0m                                     Traceback (most recent call last)",
      "\u001b[1;32m<ipython-input-14-3cf593d6a871>\u001b[0m in \u001b[0;36m<module>\u001b[1;34m\u001b[0m\n\u001b[0;32m      4\u001b[0m \u001b[1;33m\u001b[0m\u001b[0m\n\u001b[0;32m      5\u001b[0m     \u001b[1;31m# 转换成灰度图像\u001b[0m\u001b[1;33m\u001b[0m\u001b[1;33m\u001b[0m\u001b[1;33m\u001b[0m\u001b[0m\n\u001b[1;32m----> 6\u001b[1;33m     \u001b[0mimg_gray\u001b[0m \u001b[1;33m=\u001b[0m \u001b[0mcv2\u001b[0m\u001b[1;33m.\u001b[0m\u001b[0mcvtColor\u001b[0m\u001b[1;33m(\u001b[0m\u001b[0mimg\u001b[0m\u001b[1;33m,\u001b[0m \u001b[0mcv2\u001b[0m\u001b[1;33m.\u001b[0m\u001b[0mCOLOR_BGR2GRAY\u001b[0m\u001b[1;33m)\u001b[0m\u001b[1;33m\u001b[0m\u001b[1;33m\u001b[0m\u001b[0m\n\u001b[0m\u001b[0;32m      7\u001b[0m \u001b[1;33m\u001b[0m\u001b[0m\n\u001b[0;32m      8\u001b[0m     \u001b[0mrects\u001b[0m \u001b[1;33m=\u001b[0m \u001b[0mdetector\u001b[0m\u001b[1;33m(\u001b[0m\u001b[0mimg_gray\u001b[0m\u001b[1;33m,\u001b[0m \u001b[1;36m0\u001b[0m\u001b[1;33m)\u001b[0m\u001b[1;33m\u001b[0m\u001b[1;33m\u001b[0m\u001b[0m\n",
      "\u001b[1;31merror\u001b[0m: OpenCV(4.5.4-dev) D:\\a\\opencv-python\\opencv-python\\opencv\\modules\\imgproc\\src\\color.cpp:182: error: (-215:Assertion failed) !_src.empty() in function 'cv::cvtColor'\n"
     ]
    }
   ],
   "source": [
    "while ok:\n",
    "    # 读取摄像头中的图像，ok为是否读取成功的判断参数\n",
    "    ok, img = camera.read()\n",
    "    \n",
    "    # 转换成灰度图像\n",
    "    img_gray = cv2.cvtColor(img, cv2.COLOR_BGR2GRAY)\n",
    "\n",
    "    rects = detector(img_gray, 0)\n",
    "    \n",
    "    for i in range(len(rects)):\n",
    "        landmarks = np.matrix([[p.x, p.y] for p in predictor(img,rects[i]).parts()])\n",
    "        for idx, point in enumerate(landmarks):\n",
    "            # 68点的坐标\n",
    "            pos = (point[0, 0], point[0, 1])\n",
    "            print(idx,pos)\n",
    "    \n",
    "            # 利用cv2.circle给每个特征点画一个圈，共68个\n",
    "            cv2.circle(img, pos, 2, color=(0, 255, 0))\n",
    "            # 利用cv2.putText输出1-68\n",
    "            font = cv2.FONT_HERSHEY_SIMPLEX\n",
    "            cv2.putText(img, str(idx+1), pos, font, 0.2, (0, 0, 255), 1,cv2.LINE_AA)\n",
    "    cv2.imshow('video', img)\n",
    "    k = cv2.waitKey(1)\n",
    "    if k == 27:    # press 'ESC' to quit\n",
    "        break\n",
    "    \n",
    "camera.release()\n",
    "cv2.destroyAllWindows()"
   ]
  },
  {
   "cell_type": "code",
   "execution_count": null,
   "id": "aabf5532",
   "metadata": {},
   "outputs": [],
   "source": []
  }
 ],
 "metadata": {
  "kernelspec": {
   "display_name": "Python 3",
   "language": "python",
   "name": "python3"
  },
  "language_info": {
   "codemirror_mode": {
    "name": "ipython",
    "version": 3
   },
   "file_extension": ".py",
   "mimetype": "text/x-python",
   "name": "python",
   "nbconvert_exporter": "python",
   "pygments_lexer": "ipython3",
   "version": "3.8.8"
  }
 },
 "nbformat": 4,
 "nbformat_minor": 5
}
